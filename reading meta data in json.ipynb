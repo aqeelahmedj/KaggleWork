{
 "cells": [
  {
   "cell_type": "code",
   "execution_count": 1,
   "metadata": {},
   "outputs": [],
   "source": [
    "import json"
   ]
  },
  {
   "cell_type": "code",
   "execution_count": null,
   "metadata": {},
   "outputs": [],
   "source": []
  },
  {
   "cell_type": "code",
   "execution_count": 4,
   "metadata": {},
   "outputs": [
    {
     "name": "stdout",
     "output_type": "stream",
     "text": [
      "{'data_file': 'https://research.engr.oregonstate.edu/hamdaoui/RFFP-dataset/Diff_Days_Indoor_Setup/Day1/Device1/IQ_1.sigmf-meta', '_metadata': {'captures': [{'core:date': '2021-05-29', 'core:sample_start': 0, 'frequency': '915 MHz'}], 'global': {'core:author': 'Abdurrahman Elmaghbub', 'core:sample_rate': '1 MS/s', 'core:description': 'SigMF IQ samples recording of over-the-air LoRa transmissions collected by a fixed USRP B210 as a receiver. The data is collected in indoor environment of  a typical living room, with a transmitter-receiver separation distance of 16 ft. The transmitter emitted LoRa compliant frames generated via a Gnuradio.', 'core:datatype': 'cf32'}, 'annotations': [{'core:sample_start': 0, 'wines:transmitter': {'model': 'LoPy4', 'ID': {'Transmitter ID': 1, 'Transmission ID': 1}, 'antenna': {'model': 'LoRa Whip, Tilt RF', 'type': 'Vertical', 'gain': 1}}, 'wines:reciever': {'model': 'Ettus USRP B210 with CBX ( 1200-6000  MH, 40 MHz BW) Daughterboard', 'antenna': {'model': 'Ettus VERT900', 'type': 'Vertical', 'gain': 1}}, 'core:sample_count': 20000000}]}, 'version': '0.02', 'schema': {'captures': {'sort': 'core:sample_start', 'keys': {'core:time': {'required': False, 'type': 'string', 'help': 'Start time of chunk'}, 'core:sampling_rate': {'required': False, 'type': 'double', 'help': 'Sampling rate of signal (MSps)'}, 'core:sample_start': {'required': True, 'type': 'uint', 'help': 'Index of first sample of this chunk'}, 'core:frequency': {'required': False, 'type': 'double', 'help': 'Center frequency of signal (GHz)'}}, 'required': True, 'type': 'dict_list'}, 'global': {'keys': {'core:date': {'pattern': '', 'required': False, 'type': 'string', 'help': 'ISO 8601-formatted date (e.g., 2017-02-01T15:05:03+00:00)'}, 'core:sha512': {'required': False, 'type': 'string', 'help': 'SHA512 hash of the corresponding sample data file'}, 'core:version': {'default': None, 'required': True, 'type': 'string', 'help': 'Version of the SigMF specification'}, 'core:author': {'required': False, 'type': 'string', 'help': 'Name and optionally email address of the author'}, 'core:description': {'required': False, 'type': 'string', 'help': 'Textual description of the capture.'}, 'core:hw': {'required': False, 'type': 'string', 'help': 'Information about the hardware used (measurement setup, antennas, etc.)'}, 'core:offset': {'required': False, 'type': 'uint', 'help': 'Index offset of the first sample. Defaults to 0'}, 'core:datatype': {'required': True, 'type': 'string', 'help': 'Sample data format'}, 'core:license': {'required': False, 'type': 'string', 'help': 'Sample data license'}}, 'required': True, 'type': 'dict'}, 'annotations': {'sort': 'core:sample_start', 'keys': {'wines:transmitter': {'keys': {'model': {'required': True, 'type': 'string'}, 'antenna': {'keys': {'low_frequency': {'type': 'number'}, 'cable_loss': {'required': True, 'type': 'number'}, 'gain': {'type': 'number'}, 'high_frequency': {'type': 'number'}, 'model': {'type': 'string'}, 'type': {'type': 'string'}}, 'required': True, 'type': 'dict_list', 'help': 'antenna'}, 'device_id': {'type': 'string'}}, 'required': True, 'type': 'dict_list', 'help': 'Transmitter Information'}, 'core:sample_start': {'required': True, 'type': 'uint', 'help': 'Index of first sample of this chunk'}, 'core:comment': {'required': False, 'type': 'string', 'help': 'Comment'}, 'core:sample_count': {'required': True, 'type': 'uint', 'help': 'The number of samples described by this segment'}}, 'required': True, 'type': 'dict_list', 'wines:receiver': {'keys': {'model': {'required': True, 'type': 'string'}, 'antenna': {'keys': {'low_frequency': {'type': 'number'}, 'cable_loss': {'required': True, 'type': 'number'}, 'gain': {'type': 'number'}, 'high_frequency': {'type': 'number'}, 'model': {'type': 'string'}, 'type': {'type': 'string'}}, 'required': True, 'type': 'dict_list', 'help': 'antenna'}, 'device_id': {'type': 'string'}}, 'required': True, 'type': 'dict_list', 'help': 'Transmitter Information'}}}}\n"
     ]
    }
   ],
   "source": [
    "filename = \"IQ_1.sigmf-meta.txt\"\n",
    "with open(filename, \"r\") as file:\n",
    "    meta_data = json.load(file)\n",
    "    print(meta_data)"
   ]
  },
  {
   "cell_type": "code",
   "execution_count": null,
   "metadata": {},
   "outputs": [],
   "source": []
  },
  {
   "cell_type": "code",
   "execution_count": null,
   "metadata": {},
   "outputs": [],
   "source": []
  }
 ],
 "metadata": {
  "kernelspec": {
   "display_name": "Python 3",
   "language": "python",
   "name": "python3"
  },
  "language_info": {
   "codemirror_mode": {
    "name": "ipython",
    "version": 3
   },
   "file_extension": ".py",
   "mimetype": "text/x-python",
   "name": "python",
   "nbconvert_exporter": "python",
   "pygments_lexer": "ipython3",
   "version": "3.8.5"
  }
 },
 "nbformat": 4,
 "nbformat_minor": 4
}
